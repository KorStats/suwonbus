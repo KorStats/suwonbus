{
  "nbformat": 4,
  "nbformat_minor": 0,
  "metadata": {
    "colab": {
      "provenance": [],
      "authorship_tag": "ABX9TyP7/mSs+uNkaQu+jUjT492j",
      "include_colab_link": true
    },
    "kernelspec": {
      "name": "python3",
      "display_name": "Python 3"
    },
    "language_info": {
      "name": "python"
    }
  },
  "cells": [
    {
      "cell_type": "markdown",
      "metadata": {
        "id": "view-in-github",
        "colab_type": "text"
      },
      "source": [
        "<a href=\"https://colab.research.google.com/github/KorStats/suwonbus/blob/main/1_%EB%8D%B0%EC%9D%B4%ED%84%B0_%ED%95%A9%EC%B9%98%EA%B8%B0.ipynb\" target=\"_parent\"><img src=\"https://colab.research.google.com/assets/colab-badge.svg\" alt=\"Open In Colab\"/></a>"
      ]
    },
    {
      "cell_type": "code",
      "execution_count": null,
      "metadata": {
        "id": "y6MsliDGipPz",
        "colab": {
          "base_uri": "https://localhost:8080/"
        },
        "outputId": "607b5e73-b16b-4e27-8350-0147ffba2ba1"
      },
      "outputs": [
        {
          "output_type": "stream",
          "name": "stdout",
          "text": [
            "Mounted at /content/drive\n"
          ]
        }
      ],
      "source": [
        "from google.colab import drive\n",
        "drive.mount('/content/drive')"
      ]
    },
    {
      "cell_type": "code",
      "source": [
        "from google.colab import drive\n",
        "drive.mount('/content/gdrive')\n",
        "!ln -s /content/gdrive/My\\ Drive/ /mydrive\n",
        "!ls /mydrive"
      ],
      "metadata": {
        "id": "IepCO59AiyM5",
        "colab": {
          "base_uri": "https://localhost:8080/"
        },
        "outputId": "60e345f3-a8f2-4bda-b92d-f91160a98805"
      },
      "execution_count": null,
      "outputs": [
        {
          "output_type": "stream",
          "name": "stdout",
          "text": [
            "Mounted at /content/gdrive\n",
            "ln: failed to create symbolic link '/mydrive/My Drive': File exists\n",
            "'Colab Notebooks'  'My Drive'   ★데이터분석언어\n"
          ]
        }
      ]
    },
    {
      "cell_type": "code",
      "source": [
        "import os\n",
        "import pandas as pd\n",
        "file_list=os.listdir('/content/gdrive/MyDrive/★데이터분석언어/데이터_23년9월평일')\n",
        "pd.set_option('display.max_columns', None)\n",
        "pd.set_option('display.max_rows', None)\n",
        "day_df=pd.DataFrame() #일자 적힌 dataframe\n",
        "final_df=pd.DataFrame() #최종 합친 파일은 final_df라는 이름으로 저장할 것임\n",
        "time_list=['01', '02', '03', '04', '05', '06', '07', '08', '09', '10', '11', '12', '13', '14', '15', '16', '17', '18', '19', '20', '21', '22', '23', '00']\n",
        "for i in file_list:\n",
        "    df=pd.read_excel('/content/gdrive/MyDrive/★데이터분석언어/데이터_23년9월평일/'+i, engine='openpyxl')\n",
        "    bus_num=i.split('_')[1]\n",
        "    bus_num=bus_num.split('.')[0]\n",
        "    df['노선']=bus_num #버스노선 복사\n",
        "    df=df.drop(0) #필요없는 행 제거\n",
        "    df=df.reset_index()\n",
        "    for time in time_list: #없는 시간대 변수는 0으로 추가함\n",
        "      if time not in df.columns:\n",
        "        df[time]=0\n",
        "    df=df[['노선', '일', '정류장', '04', '05', '06', '07', '08', '09', '10', '11', '12', '13', '14', '15', '16', '17', '18', '19', '20', '21', '22', '23', '00', '01', '02', '03']]\n",
        "    final_df=pd.concat([final_df, df]) #데이터 전부 합치기"
      ],
      "metadata": {
        "id": "7WPpbep-iyRd"
      },
      "execution_count": null,
      "outputs": []
    },
    {
      "cell_type": "markdown",
      "source": [
        "# 일자 복사하기"
      ],
      "metadata": {
        "id": "CcvH0CfbJc_z"
      }
    },
    {
      "cell_type": "code",
      "source": [
        "final_df=final_df.reset_index()\n",
        "day_index=final_df[final_df['일']!=0].index\n",
        "for k in range(len(day_index)-1):\n",
        "  day=final_df.iloc[day_index[k]]['일']\n",
        "  day_t=final_df[['일']][day_index[k] : day_index[k+1]]\n",
        "  day_t['일']=day\n",
        "  day_df=pd.concat([day_df, day_t])\n",
        "x=final_df.iloc[day_index[len(day_index)-1]]['일']\n",
        "day_df2=final_df[['일']][day_index[len(day_index)-1] : final_df.index[-1]+1]\n",
        "day_df2['일']=x\n",
        "day_df=pd.concat([day_df, day_df2])\n",
        "day_df=day_df.rename(columns={'일' : '일자'})"
      ],
      "metadata": {
        "id": "Un20kkpAJcmH"
      },
      "execution_count": null,
      "outputs": []
    },
    {
      "cell_type": "markdown",
      "source": [
        "# 최종파일 완성"
      ],
      "metadata": {
        "id": "kPEmZI7tLRFI"
      }
    },
    {
      "cell_type": "code",
      "source": [
        "final_df=pd.concat([final_df, day_df], axis=1)\n",
        "final_df=final_df[['노선', '일', '일자','정류장', '04', '05', '06', '07', '08', '09', '10', '11', '12', '13', '14', '15', '16', '17', '18', '19', '20', '21', '22', '23', '00', '01', '02', '03']]"
      ],
      "metadata": {
        "id": "wEl1dBesJcoy"
      },
      "execution_count": null,
      "outputs": []
    },
    {
      "cell_type": "code",
      "source": [
        "final_df.to_csv('/content/final_23년9월평일.csv', encoding='utf-8-sig')"
      ],
      "metadata": {
        "id": "14hmOY6r9ddp"
      },
      "execution_count": null,
      "outputs": []
    },
    {
      "cell_type": "code",
      "source": [],
      "metadata": {
        "id": "TkRfdB8iL0HQ"
      },
      "execution_count": null,
      "outputs": []
    }
  ]
}